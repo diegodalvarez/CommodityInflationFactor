{
 "cells": [
  {
   "cell_type": "markdown",
   "id": "0863299e-1f6e-4ac6-be39-7fb9c4038b98",
   "metadata": {},
   "source": [
    "# Commodity Inflation Factor Analysis Background"
   ]
  },
  {
   "cell_type": "markdown",
   "id": "432581cf-622d-4d4d-abef-3f7030dbc529",
   "metadata": {},
   "source": [
    "## Packages"
   ]
  },
  {
   "cell_type": "code",
   "execution_count": 4,
   "id": "c31204a4-6851-4b17-b67d-e808d1c23892",
   "metadata": {},
   "outputs": [],
   "source": [
    "import os\n",
    "import sys\n",
    "import numpy as np\n",
    "import pandas as pd\n",
    "import statsmodels.api as sm\n",
    "\n",
    "import matplotlib.pyplot as plt\n",
    "from   matplotlib.ticker import FuncFormatter"
   ]
  },
  {
   "cell_type": "code",
   "execution_count": 5,
   "id": "6d43c658-9beb-40b2-9fb4-3979cd2a9c85",
   "metadata": {},
   "outputs": [
    {
     "ename": "ModuleNotFoundError",
     "evalue": "No module named 'InflationFactorGenerator'",
     "output_type": "error",
     "traceback": [
      "\u001b[0;31m---------------------------------------------------------------------------\u001b[0m",
      "\u001b[0;31mModuleNotFoundError\u001b[0m                       Traceback (most recent call last)",
      "Cell \u001b[0;32mIn[5], line 2\u001b[0m\n\u001b[1;32m      1\u001b[0m sys\u001b[38;5;241m.\u001b[39mpath\u001b[38;5;241m.\u001b[39mappend(\u001b[38;5;124mr\u001b[39m\u001b[38;5;124m\"\u001b[39m\u001b[38;5;124mC:\u001b[39m\u001b[38;5;124m\\\u001b[39m\u001b[38;5;124mUsers\u001b[39m\u001b[38;5;124m\\\u001b[39m\u001b[38;5;124mDiego\u001b[39m\u001b[38;5;124m\\\u001b[39m\u001b[38;5;124mDesktop\u001b[39m\u001b[38;5;124m\\\u001b[39m\u001b[38;5;124mapp_prod\u001b[39m\u001b[38;5;124m\\\u001b[39m\u001b[38;5;124mresearch\u001b[39m\u001b[38;5;124m\\\u001b[39m\u001b[38;5;124mCommodityInflationFactor\u001b[39m\u001b[38;5;124m\\\u001b[39m\u001b[38;5;124mroot\u001b[39m\u001b[38;5;124m\\\u001b[39m\u001b[38;5;124msrc\u001b[39m\u001b[38;5;124m\"\u001b[39m)\n\u001b[0;32m----> 2\u001b[0m \u001b[38;5;28;01mfrom\u001b[39;00m \u001b[38;5;21;01mInflationFactorGenerator\u001b[39;00m \u001b[38;5;28;01mimport\u001b[39;00m FactorModel\n",
      "\u001b[0;31mModuleNotFoundError\u001b[0m: No module named 'InflationFactorGenerator'"
     ]
    }
   ],
   "source": [
    "sys.path.append(r\"C:\\Users\\Diego\\Desktop\\app_prod\\research\\CommodityInflationFactor\\root\\src\")\n",
    "from InflationFactorGenerator import FactorModel"
   ]
  },
  {
   "cell_type": "markdown",
   "id": "2808639d-d71e-4e12-a6b9-98969a1eaee5",
   "metadata": {},
   "source": [
    "## Original Raw Data"
   ]
  },
  {
   "cell_type": "code",
   "execution_count": null,
   "id": "14bc8be5-d72b-4998-a09c-bb0c1d84a31c",
   "metadata": {},
   "outputs": [],
   "source": [
    "def plot_inflation_rates() -> plt.Figure: \n",
    "    \n",
    "    fig, axes = plt.subplots(ncols = 2, figsize = (20,6))\n",
    "\n",
    "    df_inflation = (FactorModel().get_inflation_swap().assign(\n",
    "        security = lambda x: x.Description.str.split(\" \").str[-1])\n",
    "        [[\"date\", \"security\", \"value\"]].\n",
    "        pivot(index = \"date\", columns = \"security\", values = \"value\"))\n",
    "\n",
    "    df_breakeven = (FactorModel().get_breakeven()[\n",
    "        [\"date\", \"security\", \"value\"]].\n",
    "        pivot(index = \"date\", columns = \"security\", values = \"value\").\n",
    "        dropna())\n",
    "\n",
    "    df_inflation.plot(\n",
    "        ax     = axes[0],\n",
    "        legend = False,\n",
    "        title  = \"Inflation Swap Rates from {} to {}\".format(\n",
    "            df_inflation.index.min().date(),\n",
    "            df_inflation.index.max().date()))\n",
    "\n",
    "    df_breakeven.plot(\n",
    "        ax     = axes[1],\n",
    "        legend = False,\n",
    "        title  = \"Breakeven Rates from {} to {}\".format(\n",
    "            df_inflation.index.min().date(),\n",
    "            df_inflation.index.max().date()))\n",
    "\n",
    "    fig.suptitle(\"Inflation Swap & Breakeven Rates Across The Curve\")\n",
    "    plt.tight_layout()\n",
    "    \n",
    "plot_inflation_rates()"
   ]
  },
  {
   "cell_type": "markdown",
   "id": "b403755a-16c1-4ace-9a99-4bbe6d4262be",
   "metadata": {},
   "source": [
    "## Principal Components"
   ]
  },
  {
   "cell_type": "markdown",
   "id": "08a2be53-f4e9-4344-bf93-ea2388e4ddd6",
   "metadata": {},
   "source": [
    "First start looking at the principal components of the breakeven curve and the inflation swap curve"
   ]
  },
  {
   "cell_type": "code",
   "execution_count": null,
   "id": "ec9d5d36-9fb1-4884-afe8-0ed7e0a19ad9",
   "metadata": {},
   "outputs": [],
   "source": [
    "def get_fitted_values() -> pd.DataFrame: \n",
    "    \n",
    "    data_path = r\"C:\\Users\\Diego\\Desktop\\app_prod\\research\\CommodityInflationFactor\\data\\FittedPCValues\"\n",
    "    df_out = (pd.concat([(pd.read_parquet(\n",
    "        path = os.path.join(data_path, file), engine = \"pyarrow\").\n",
    "        assign(inflation_group = file.split(\".\")[0])) \n",
    "         for file in os.listdir(data_path)]))\n",
    "    \n",
    "    return df_out\n",
    "\n",
    "df_fitted = get_fitted_values()"
   ]
  },
  {
   "cell_type": "code",
   "execution_count": null,
   "id": "2057cf06-6c68-4089-aaa8-3b843e1b2c35",
   "metadata": {},
   "outputs": [],
   "source": [
    "def plot_fitted_values(df_fitted: pd.DataFrame) -> plt.Figure: \n",
    "    \n",
    "    inflation_groups = df_fitted.inflation_group.drop_duplicates().to_list()\n",
    "    fig, axes        = plt.subplots(ncols = len(inflation_groups), figsize = (22,6))\n",
    "\n",
    "    renamer = {\n",
    "        \"BreakevenRate\" : \"Breakeven Curve\",\n",
    "        \"InflationSwaps\": \"Inflation Swap Curve\"}\n",
    "\n",
    "    for inflation_group, ax in zip(inflation_groups, axes.flatten()):\n",
    "\n",
    "        df_plot = (df_fitted.query(\n",
    "            \"inflation_group == @inflation_group\").\n",
    "            drop(columns = [\"inflation_group\"]))\n",
    "\n",
    "        (df_plot.plot(\n",
    "            ax     = ax,\n",
    "            xlabel = \"Date\",\n",
    "            ylabel = \"Fitted Value\",\n",
    "            title  = \"{} From {} to {}\".format(\n",
    "                renamer[inflation_group],\n",
    "                df_plot.index.min().date(),\n",
    "                df_plot.index.max().date())))\n",
    "        \n",
    "    fig.suptitle(\"Fitted PCs of Term Structures\")\n",
    "    plt.tight_layout()\n",
    "    \n",
    "plot_fitted_values(df_fitted)"
   ]
  },
  {
   "cell_type": "code",
   "execution_count": null,
   "id": "5525f6be-8698-4c13-a336-217a12e14f3b",
   "metadata": {},
   "outputs": [],
   "source": [
    "def plot_pc_comparison(df_fitted: pd.DataFrame) -> plt.Figure: \n",
    "    \n",
    "    df_longer = (df_fitted.reset_index().melt(\n",
    "        id_vars = [\"date\", \"inflation_group\"]))\n",
    "\n",
    "    group_vars = df_longer.variable.drop_duplicates().sort_values().to_list()\n",
    "    fig, axes  = plt.subplots(ncols = len(group_vars), figsize = (25,6))\n",
    "\n",
    "    for group_var, ax in zip(group_vars, axes.flatten()):\n",
    "\n",
    "        (df_longer.query(\n",
    "            \"variable == @group_var\").\n",
    "            drop(columns = [\"variable\"]).\n",
    "            assign(inflation_group = lambda x: np.where(x.inflation_group == \"BreakevenRate\", \"Breakeven Curve\", \"Inflation Swap Curve\")).\n",
    "            rename(columns = {\"inflation_group\": \"\"}).\n",
    "            pivot(index = \"date\", columns = \"\", values = \"value\").\n",
    "            plot(\n",
    "                ax     = ax,\n",
    "                ylabel = \"Fitted Value\",\n",
    "                title  = group_var))\n",
    "\n",
    "    fig.suptitle(\"Comparison of each PC\")\n",
    "    plt.tight_layout()\n",
    "    \n",
    "plot_pc_comparison(df_fitted)"
   ]
  },
  {
   "cell_type": "code",
   "execution_count": null,
   "id": "53ded034-9fb6-45f8-ac2f-17f7f4b7c093",
   "metadata": {},
   "outputs": [],
   "source": [
    "def get_explained_variance() -> pd.DataFrame:\n",
    "    \n",
    "    data_path = r\"C:\\Users\\Diego\\Desktop\\app_prod\\research\\CommodityInflationFactor\\data\\PCExpVar\"\n",
    "\n",
    "    df_exp_var = (pd.concat([\n",
    "        (pd.read_parquet(\n",
    "            path   = os.path.join(data_path, path), \n",
    "            engine = \"pyarrow\").\n",
    "            assign(inflation_group = path.split(\".\")[0])) \n",
    "        for path in os.listdir(data_path)]).\n",
    "        reset_index().\n",
    "        pivot(index = \"index\", columns = \"inflation_group\", values = \"exp_var\").\n",
    "        cumsum().\n",
    "        reset_index().\n",
    "        melt(id_vars = \"index\"))\n",
    "    \n",
    "    return df_exp_var\n",
    "\n",
    "df_exp_var = get_explained_variance()"
   ]
  },
  {
   "cell_type": "code",
   "execution_count": null,
   "id": "feedcdeb-ef9e-45e2-9cd7-88546808d885",
   "metadata": {},
   "outputs": [],
   "source": [
    "inflation_groups = df_exp_var.inflation_group.drop_duplicates().to_list()\n",
    "fig, axes        = plt.subplots(ncols = len(inflation_groups), figsize = (20,6))\n",
    "\n",
    "renamer = {\n",
    "    \"BreakevenRate\" : \"Breakeven Curve\",\n",
    "    \"InflationSwaps\": \"Inflation Swap Curve\"}\n",
    "\n",
    "for inflation_group, ax in zip(inflation_groups, axes.flatten()):\n",
    "    \n",
    "    (df_exp_var.query(\n",
    "        \"inflation_group == @inflation_group\").\n",
    "        drop(columns = [\"inflation_group\"]).\n",
    "        set_index(\"index\").\n",
    "        plot(\n",
    "            kind   = \"bar\",\n",
    "            ax     = ax,\n",
    "            legend = False,\n",
    "            xlabel = \"Principal Component\",\n",
    "            ylabel = \"Cumulative Explained Variance\",\n",
    "            title  = renamer[inflation_group]))\n",
    "    \n",
    "    ax.yaxis.set_major_formatter(plt.FuncFormatter(lambda x, _: f\"{x * 100:.0f}%\"))\n",
    "\n",
    "    \n",
    "fig.suptitle(\"Explained Variance of Principal Component\")\n",
    "plt.tight_layout()"
   ]
  },
  {
   "cell_type": "code",
   "execution_count": null,
   "id": "b4d97e45-87ac-41e1-a47c-afa88ccbccf2",
   "metadata": {},
   "outputs": [],
   "source": [
    "def get_loadings() -> pd.DataFrame: \n",
    "    \n",
    "    data_path = r\"C:\\Users\\Diego\\Desktop\\app_prod\\research\\CommodityInflationFactor\\data\\PCLoadings\"\n",
    "\n",
    "    df_loadings = (pd.concat([(pd.read_parquet(\n",
    "        path   = os.path.join(data_path, path), \n",
    "        engine = \"pyarrow\").\n",
    "        T.\n",
    "        assign(inflation_group = path.split(\".\")[0])) \n",
    "        for path in os.listdir(data_path)]).\n",
    "        reset_index().\n",
    "        rename(columns = {\"index\": \"ticker\"}).\n",
    "        assign(tenor = lambda x: x.ticker.str[-2:].str.replace(\"T\", \"\").astype(int)))\n",
    "    \n",
    "    return df_loadings\n",
    "\n",
    "df_loadings = get_loadings()"
   ]
  },
  {
   "cell_type": "code",
   "execution_count": null,
   "id": "39592e37-a96b-4ee3-b232-e316d8dc74c6",
   "metadata": {},
   "outputs": [],
   "source": [
    "def plot_loadings(df_loadings: pd.DataFrame) -> plt.Figure: \n",
    "    \n",
    "    inflation_groups = df_loadings.inflation_group.drop_duplicates().to_list()\n",
    "    fig, axes        = plt.subplots(ncols = len(inflation_groups), figsize = (20,6))\n",
    "\n",
    "    renamer = {\n",
    "        \"BreakevenRate\" : \"Breakeven Rates\",\n",
    "        \"InflationSwaps\": \"Inflation Swaps\"}\n",
    "\n",
    "    for inflation_group, ax in zip(inflation_groups, axes.flatten()): \n",
    "\n",
    "        (df_loadings.query(\n",
    "            \"inflation_group == @inflation_group\").\n",
    "            set_index(\"tenor\").\n",
    "            sort_index().\n",
    "            drop(columns = [\"ticker\", \"inflation_group\"]).\n",
    "            plot(\n",
    "                ax     =  ax,\n",
    "                ylabel = \"PC Loading\",\n",
    "                xlabel = \"tenor\",\n",
    "                title  = renamer[inflation_group]))\n",
    "\n",
    "    fig.suptitle(\"PCA Loadings\")\n",
    "    plt.tight_layout()\n",
    "    \n",
    "plot_loadings(df_loadings)"
   ]
  },
  {
   "cell_type": "markdown",
   "id": "2e6f3f8c-2433-4748-8981-09f6c6421018",
   "metadata": {},
   "source": [
    "## OLS model"
   ]
  },
  {
   "cell_type": "markdown",
   "id": "e8604639-1f8d-4782-a6b3-2e769493b977",
   "metadata": {},
   "source": [
    "first begin by running a full regression of all commodities against each PC and then taking the t-stat of the beta"
   ]
  },
  {
   "cell_type": "code",
   "execution_count": null,
   "id": "48405f8e-bd32-427c-8ab0-33b51214078e",
   "metadata": {},
   "outputs": [],
   "source": [
    "def _get_ols_tstat(df: pd.DataFrame) -> pd.DataFrame: \n",
    "    \n",
    "    model = (sm.OLS(\n",
    "        endog = df.PX_rtn,\n",
    "        exog  = sm.add_constant(df.value)).\n",
    "        fit())\n",
    "    \n",
    "    df_out = (pd.DataFrame(\n",
    "        data    = model.pvalues,\n",
    "        columns = [\"t_stat\"]).\n",
    "        reset_index().\n",
    "        rename(columns = {\"index\": \"var\"}).\n",
    "        query(\"var == 'value'\"))\n",
    "    \n",
    "    return df_out\n",
    "\n",
    "def get_tstats(df_fitted: pd.DataFrame) -> pd.DataFrame: \n",
    "\n",
    "    data_path = r\"C:\\Users\\Diego\\Desktop\\app_prod\\research\\CommodityInflationFactor\\data\\RawData\\CommodFutures.parquet\"\n",
    "\n",
    "    df_fitted_prep = (df_fitted.reset_index().melt(\n",
    "        id_vars = [\"date\", \"inflation_group\"]))\n",
    "\n",
    "    df_stat = (pd.read_parquet(\n",
    "        path = data_path, engine = \"pyarrow\").\n",
    "        merge(right = df_fitted_prep, how = \"inner\", on = [\"date\"]).\n",
    "        assign(group_var = lambda x: x.security + \" \" + x.inflation_group + \" \" + x.variable).\n",
    "        groupby(\"group_var\").\n",
    "        apply(_get_ols_tstat).\n",
    "        reset_index().\n",
    "        drop(columns = [\"level_1\"]).\n",
    "        assign(\n",
    "            security        = lambda x: x.group_var.str.split(\" \").str[0],\n",
    "            inflation_group = lambda x: x.group_var.str.split(\" \").str[1],\n",
    "            variable        = lambda x: x.group_var.str.split(\" \").str[2]).\n",
    "        drop(columns = [\"group_var\"]))\n",
    "    \n",
    "    return df_stat\n",
    "\n",
    "df_stat = get_tstats(df_fitted)"
   ]
  },
  {
   "cell_type": "code",
   "execution_count": null,
   "id": "51df1d07-a38e-4bd4-82cf-d419dd78e1fe",
   "metadata": {},
   "outputs": [],
   "source": [
    "def plot_tstat_dist(df_stat: pd.DataFrame) -> plt.Figure:\n",
    "    \n",
    "    df_stat.t_stat.plot(\n",
    "        figsize = (12,6),\n",
    "        kind    = \"hist\", \n",
    "        bins    = 20,\n",
    "        xlabel  = \"$t$-stat\",\n",
    "        title   = \"Distribution of $t$-stat for each full-sample regression of each curve's PC\\nagainst every Commodity's returns\")\n",
    "    \n",
    "    plt.tight_layout()\n",
    "    \n",
    "plot_tstat_dist(df_stat)"
   ]
  },
  {
   "cell_type": "markdown",
   "id": "00512dd4-5587-4b50-97e8-faca836c1247",
   "metadata": {},
   "source": [
    "The implication of this can be a coule of things things (or a combination of all) <br>\n",
    "1. The modelling of inflation expectation via PCA of the curves are not accurate estimators of inflation expectation \n",
    "2. The causal relationship is not a strong as mentioned\n",
    "3. Inflation is a statistical driver of inflation but US-based inflation is not the main\n",
    "4. The OLS model can't fully capture the relationship between the PCs and the commodity's return <br> <br>\n",
    "All of which are likely in play and tough barriers to overcome. The use of breakeven rates as leading indicators for inflation is prevalent (see [*The Fred Blog: Measuring expected inflation with breakevens*](https://fredblog.stlouisfed.org/2021/12/measuring-expected-inflation-with-breakevens/)). And the inflation swap market is traded purely on an *expected-inflation-basis*. The second hypothesis is likely not true, as inflation tends to be a key driver for inflationary periods, although its appeal during those times has started to be questioned (see [*Robeco: Gold is back as an asset class*](https://www.robeco.com/en-us/insights/2024/10/gold-is-back-as-an-asset-class)). Global inflation tends to be the driver for this model the US economy should have enough spillover inflation (or vice versa inflation that spills over) to the global economy making it a proxy. It should be noted that say geopolitical spikes can occur. The OLS model should be able to capture the complexities of the relationship, but the factor uses $\\beta$ of 30d rolling OLS which is negated by the low $t$-stat for the full sample."
   ]
  },
  {
   "cell_type": "code",
   "execution_count": null,
   "id": "4277554a-846a-40d9-8289-0107f8b7e37f",
   "metadata": {},
   "outputs": [],
   "source": []
  }
 ],
 "metadata": {
  "kernelspec": {
   "display_name": "Python 3 (ipykernel)",
   "language": "python",
   "name": "python3"
  },
  "language_info": {
   "codemirror_mode": {
    "name": "ipython",
    "version": 3
   },
   "file_extension": ".py",
   "mimetype": "text/x-python",
   "name": "python",
   "nbconvert_exporter": "python",
   "pygments_lexer": "ipython3",
   "version": "3.12.7"
  }
 },
 "nbformat": 4,
 "nbformat_minor": 5
}
